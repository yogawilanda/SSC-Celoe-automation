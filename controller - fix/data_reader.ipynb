{
 "cells": [
  {
   "cell_type": "code",
   "execution_count": null,
   "metadata": {
    "ExecuteTime": {
     "end_time": "2024-01-13T07:54:31.293537400Z",
     "start_time": "2024-01-13T07:54:30.885005600Z"
    }
   },
   "outputs": [],
   "source": [
    "import pandas as pd\n",
    "\n",
    "filename = '../aset/asetEdomGjl2223.xlsx'\n",
    "xl = pd.ExcelFile(filename, engine=\"openpyxl\")\n",
    "\n",
    "# Get sheet names\n",
    "get_sheet_names = xl.sheet_names\n",
    "\n",
    "# Store the headers for each sheet in a dictionary\n",
    "sheet_headers = {}\n",
    "\n",
    "header = None\n",
    "\n",
    "def read_header():\n",
    "    # Loop through each sheet name\n",
    "    for get_sheet_name in xl.sheet_names:\n",
    "        # Read the first row (header) from the current sheet\n",
    "        header = xl.parse(get_sheet_name, rows=1, header=None).values[0]\n",
    "        \n",
    "        # Store the header in the dictionary\n",
    "        sheet_headers[get_sheet_name] = header\n",
    "    \n",
    "    # Access the headers for each sheet\n",
    "    print(\"Headers for each sheet:\")\n",
    "    for get_sheet_name, header in sheet_headers.items():\n",
    "        print(f\"{get_sheet_name}: {header}\")\n",
    "        \n",
    "def read_data():\n",
    "    # Loop through each sheet name\n",
    "    for get_sheet_name in xl.sheet_names:\n",
    "        # Read the data from the current sheet starting from row 2\n",
    "        data = xl.parse(get_sheet_name, skiprows=[0])\n",
    "        \n",
    "        # Print the data\n",
    "        print(f\"\\n{get_sheet_name}:\\n{data}\")\n",
    "        \n",
    "def read_data_with_header():\n",
    "    # Loop through each sheet name\n",
    "    for get_sheet_name in xl.sheet_names:\n",
    "        # Read the data from the current sheet starting from row 2\n",
    "        data = xl.parse(get_sheet_name, skiprows=[0])\n",
    "        # Print the data\n",
    "        print(f\"\\n{get_sheet_name[1]}:\\n{data[1]}\")\n",
    "\n",
    "def get_data_types_and_column(df):\n",
    "    for sheet_name in xl.sheet_names:\n",
    "        # Read the entire sheet\n",
    "        df = xl.parse(sheet_name)\n",
    "        print(f\"Sheet: {sheet_name}\\n\\nColumns and Data Types:\\n\", df.dtypes, df.columns)\n",
    "        \n",
    "def append_on_the_existing_sheet():\n",
    "    # Get the sheet name\n",
    "    sheet_name = xl.sheet_names[0]\n",
    "    \n",
    "    # Read the sheet into a DataFrame\n",
    "    df = xl.parse(sheet_name)\n",
    "    \n",
    "    # Create a new DataFrame to append\n",
    "    df_to_append = pd.DataFrame({\"H\": [\"New Value 1\", \"New Value 2\"]})\n",
    "    \n",
    "    # Append the DataFrame to the existing sheet\n",
    "    df = df.append(df_to_append, ignore_index=True)\n",
    "    \n",
    "    # Save the appended DataFrame\n",
    "    df.to_excel(filename, sheet_name=sheet_name, index=False)\n",
    "    \n",
    "    # Read the sheet again\n",
    "    df = xl.parse(sheet_name)\n",
    "    \n",
    "    # Print the DataFrame\n",
    "    print(df)\n"
   ]
  },
  {
   "cell_type": "code",
   "execution_count": null,
   "metadata": {},
   "outputs": [],
   "source": [
    "# read data\n",
    "read_data_with_header()"
   ]
  },
  {
   "cell_type": "code",
   "execution_count": 41,
   "metadata": {},
   "outputs": [
    {
     "data": {
      "text/html": [
       "<div>\n",
       "<style scoped>\n",
       "    .dataframe tbody tr th:only-of-type {\n",
       "        vertical-align: middle;\n",
       "    }\n",
       "\n",
       "    .dataframe tbody tr th {\n",
       "        vertical-align: top;\n",
       "    }\n",
       "\n",
       "    .dataframe thead th {\n",
       "        text-align: right;\n",
       "    }\n",
       "</style>\n",
       "<table border=\"1\" class=\"dataframe\">\n",
       "  <thead>\n",
       "    <tr style=\"text-align: right;\">\n",
       "      <th></th>\n",
       "      <th>I</th>\n",
       "      <th>H</th>\n",
       "    </tr>\n",
       "  </thead>\n",
       "  <tbody>\n",
       "    <tr>\n",
       "      <th>0</th>\n",
       "      <td>Value 1</td>\n",
       "      <td>New Value 1</td>\n",
       "    </tr>\n",
       "    <tr>\n",
       "      <th>1</th>\n",
       "      <td>Value 1</td>\n",
       "      <td>New Value 2</td>\n",
       "    </tr>\n",
       "  </tbody>\n",
       "</table>\n",
       "</div>"
      ],
      "text/plain": [
       "          I            H\n",
       "0   Value 1  New Value 1\n",
       "1   Value 1  New Value 2"
      ]
     },
     "execution_count": 41,
     "metadata": {},
     "output_type": "execute_result"
    }
   ],
   "source": [
    "# xl.parse('Informatika', skiprows=0, header=None)\n",
    "seluruh_dosen = xl.sheet_names[0]\n",
    "\n",
    "\n",
    "insert_new_value_to_column = pd.DataFrame({\"H\": [\"New Value 1\", \"New Value 2\"]})\n",
    "\n",
    "insert_new_value_to_column.insert(0, 'I', ' Value 1')\n",
    "insert_new_value_to_column\n"
   ]
  }
 ],
 "metadata": {
  "kernelspec": {
   "display_name": "Python 3",
   "language": "python",
   "name": "python3"
  },
  "language_info": {
   "codemirror_mode": {
    "name": "ipython",
    "version": 3
   },
   "file_extension": ".py",
   "mimetype": "text/x-python",
   "name": "python",
   "nbconvert_exporter": "python",
   "pygments_lexer": "ipython3",
   "version": "3.12.1"
  }
 },
 "nbformat": 4,
 "nbformat_minor": 2
}
